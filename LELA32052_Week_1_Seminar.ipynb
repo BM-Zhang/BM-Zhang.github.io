{
  "cells": [
    {
      "cell_type": "markdown",
      "metadata": {
        "id": "view-in-github",
        "colab_type": "text"
      },
      "source": [
        "<a href=\"https://colab.research.google.com/github/BM-Zhang/BM-Zhang.github.io/blob/master/LELA32052_Week_1_Seminar.ipynb\" target=\"_parent\"><img src=\"https://colab.research.google.com/assets/colab-badge.svg\" alt=\"Open In Colab\"/></a>"
      ]
    },
    {
      "cell_type": "markdown",
      "id": "7ac18e78",
      "metadata": {
        "id": "7ac18e78"
      },
      "source": [
        "# LELA32052 Computational Linguistics Week 1\n",
        "## What is Python?\n",
        "\n",
        "When we talk about data in computational linguistics we usually mean text data or audio files. While this data is meaningful to us, to the computer data is always just sequences of numbers. So to a computer the character i is 1101001. Fortunately, we never have to engage with this numeric representation - we can input an i into a computer and it will be converted into the computer's language for us.\n",
        "\n",
        "A similar situation arises with the instructions that a computer applies to data. The instructions that the computer sees are in a purely numeric format known as machine code. Fortunately, we as users do not need to engage with machine code. Instead, we use what is known as a programming language. This is a much easier to read and write language that we input and which is converted to machine code for us.\n",
        "\n",
        "The programming language we will employ for this module is called Python."
      ]
    },
    {
      "cell_type": "markdown",
      "id": "f9acedd8",
      "metadata": {
        "id": "f9acedd8"
      },
      "source": [
        "## Variables and datatypes\n",
        "Data in Python programs is manipulated using variables. A variable is like a box in which you can store information of any kind. You assign data to variables using the assignment operator =. For example you can store the number 10 as the variable i as follows:"
      ]
    },
    {
      "cell_type": "code",
      "execution_count": 5,
      "id": "f9906764",
      "metadata": {
        "id": "f9906764"
      },
      "outputs": [],
      "source": [
        "i = 5"
      ]
    },
    {
      "cell_type": "markdown",
      "id": "459f4508",
      "metadata": {
        "id": "459f4508"
      },
      "source": [
        "Once stored these variables can be manipulated, for example using the standard mathematical operators for addition \"+\", subtraction \"-\", multiplication \"*\" and division \"/\". For example:"
      ]
    },
    {
      "cell_type": "code",
      "execution_count": 6,
      "id": "e1b8536a",
      "metadata": {
        "id": "e1b8536a",
        "outputId": "acd85680-b09c-4da6-a309-02d7ecddbf2d",
        "colab": {
          "base_uri": "https://localhost:8080/"
        }
      },
      "outputs": [
        {
          "output_type": "execute_result",
          "data": {
            "text/plain": [
              "6.5"
            ]
          },
          "metadata": {},
          "execution_count": 6
        }
      ],
      "source": [
        "i+1*3/2"
      ]
    },
    {
      "cell_type": "markdown",
      "id": "9645372d",
      "metadata": {
        "id": "9645372d"
      },
      "source": [
        "Data in Python has different types. i, as a whole number, is an integer, or int. The output from the operations above, since it contains a decimal point is a floating point number or float. There are other types of numbers in Python but it is these two you will work with most.\n",
        "\n",
        "Variables can also be used to store a letter or a sequence of letters, known as a string:"
      ]
    },
    {
      "cell_type": "code",
      "execution_count": 7,
      "id": "ddecf601",
      "metadata": {
        "id": "ddecf601"
      },
      "outputs": [],
      "source": [
        "j = \"My name is \""
      ]
    },
    {
      "cell_type": "markdown",
      "id": "ec0cc6b0",
      "metadata": {
        "id": "ec0cc6b0"
      },
      "source": [
        "The strings can be combined using the \"+\" symbol which when applied to strings functions as a concatenation operator:"
      ]
    },
    {
      "cell_type": "code",
      "execution_count": 8,
      "id": "7005e36f",
      "metadata": {
        "id": "7005e36f"
      },
      "outputs": [],
      "source": [
        "k = j + \"Jude Bellingham\""
      ]
    },
    {
      "cell_type": "markdown",
      "id": "1f38b300",
      "metadata": {
        "id": "1f38b300"
      },
      "source": [
        "Once you have stored information in a variable, you can print it as follows:"
      ]
    },
    {
      "cell_type": "code",
      "execution_count": 9,
      "id": "5a86d8f5",
      "metadata": {
        "id": "5a86d8f5",
        "outputId": "c2b46901-31f8-429d-8a10-f8b75f0ece2b",
        "colab": {
          "base_uri": "https://localhost:8080/"
        }
      },
      "outputs": [
        {
          "output_type": "stream",
          "name": "stdout",
          "text": [
            "My name is Jude Bellingham\n"
          ]
        }
      ],
      "source": [
        "print(k)"
      ]
    },
    {
      "cell_type": "markdown",
      "id": "655ffe07",
      "metadata": {
        "id": "655ffe07"
      },
      "source": [
        "You can also print a series of variables as follows:"
      ]
    },
    {
      "cell_type": "code",
      "execution_count": 10,
      "id": "4a056c33",
      "metadata": {
        "id": "4a056c33",
        "outputId": "0348f05b-089f-4edc-ee06-306d182cd2cc",
        "colab": {
          "base_uri": "https://localhost:8080/"
        }
      },
      "outputs": [
        {
          "output_type": "stream",
          "name": "stdout",
          "text": [
            "My name is Jude Bellingham\n"
          ]
        }
      ],
      "source": [
        "print(j + \"Jude Bellingham\")"
      ]
    },
    {
      "cell_type": "markdown",
      "id": "28516898",
      "metadata": {
        "id": "28516898"
      },
      "source": [
        "The print function however expects all variables that are concatenated in this way to be of the same data type, so if you mix them you will get an error message"
      ]
    },
    {
      "cell_type": "code",
      "execution_count": 12,
      "id": "5125df97",
      "metadata": {
        "id": "5125df97",
        "outputId": "1f0d0707-ae69-42e5-ea50-cfbf1877c99b",
        "colab": {
          "base_uri": "https://localhost:8080/",
          "height": 147
        }
      },
      "outputs": [
        {
          "output_type": "error",
          "ename": "TypeError",
          "evalue": "can only concatenate str (not \"int\") to str",
          "traceback": [
            "\u001b[0;31m---------------------------------------------------------------------------\u001b[0m",
            "\u001b[0;31mTypeError\u001b[0m                                 Traceback (most recent call last)",
            "\u001b[0;32m<ipython-input-12-d363c1e1a8d7>\u001b[0m in \u001b[0;36m<cell line: 0>\u001b[0;34m()\u001b[0m\n\u001b[0;32m----> 1\u001b[0;31m \u001b[0mprint\u001b[0m\u001b[0;34m(\u001b[0m\u001b[0mk\u001b[0m \u001b[0;34m+\u001b[0m \u001b[0;34m\" and my shirt number is \"\u001b[0m \u001b[0;34m+\u001b[0m \u001b[0mi\u001b[0m\u001b[0;34m)\u001b[0m\u001b[0;34m\u001b[0m\u001b[0;34m\u001b[0m\u001b[0m\n\u001b[0m",
            "\u001b[0;31mTypeError\u001b[0m: can only concatenate str (not \"int\") to str"
          ]
        }
      ],
      "source": [
        "print(k + \" and my shirt number is \" + i)"
      ]
    },
    {
      "cell_type": "markdown",
      "id": "d0772e52",
      "metadata": {
        "id": "d0772e52"
      },
      "source": [
        "You can avoid this by explicitly converting the type of your variables as in the follows. To change an object stored in a variable x to an int or a float you would write int(x) or float(x) respectively."
      ]
    },
    {
      "cell_type": "code",
      "execution_count": 13,
      "id": "8619e2e5",
      "metadata": {
        "id": "8619e2e5",
        "outputId": "b3580a75-f0cb-496a-d4ac-6a4ea5a44282",
        "colab": {
          "base_uri": "https://localhost:8080/"
        }
      },
      "outputs": [
        {
          "output_type": "stream",
          "name": "stdout",
          "text": [
            "My name is Jude Bellingham and my shirt number is 5\n"
          ]
        }
      ],
      "source": [
        "print(k + \" and my shirt number is \" + str(i))"
      ]
    },
    {
      "cell_type": "markdown",
      "id": "a95de56c-4cc4-498a-b27d-9f5e9e5ee761",
      "metadata": {
        "id": "a95de56c-4cc4-498a-b27d-9f5e9e5ee761"
      },
      "source": [
        "Exercise: Add to the code above so that it prints the statement \"My name is Jude Bellingham and shirt number is 5 for Real Madrid but 22 for England\"."
      ]
    },
    {
      "cell_type": "code",
      "execution_count": 19,
      "id": "e15c0fce-93ff-483d-b602-fe43f9132375",
      "metadata": {
        "id": "e15c0fce-93ff-483d-b602-fe43f9132375",
        "outputId": "f95ee91b-8043-4efe-e456-e9f067fcf06c",
        "colab": {
          "base_uri": "https://localhost:8080/"
        }
      },
      "outputs": [
        {
          "output_type": "stream",
          "name": "stdout",
          "text": [
            "My name is Jude Bellingham and my shirt number is 5 for Real Madrid but 22 for England.\n"
          ]
        }
      ],
      "source": [
        "q = 22\n",
        "print(k + \" and my shirt number is \" + str(i) + \" for Real Madrid but \" + str(q) + \" for England.\")"
      ]
    },
    {
      "cell_type": "markdown",
      "id": "2605038d",
      "metadata": {
        "id": "2605038d"
      },
      "source": [
        "# A brief mention of functions\n",
        "\n",
        "The commands print() and str() we used above are what known as functions. These are operations that can be applied to entities in our code. These are a very important part of Python programming and later in the module we will look at writing our own functions. For now I just want to mention that there are a number of useful built-in functions that can be applied to strings. A list is here: https://www.w3schools.com/python/python_ref_string.asp\n",
        "\n",
        "Here are a couple of examples:"
      ]
    },
    {
      "cell_type": "code",
      "execution_count": 48,
      "id": "521f72d7",
      "metadata": {
        "id": "521f72d7",
        "outputId": "d496c258-fa3a-4754-d239-1c90664f8862",
        "colab": {
          "base_uri": "https://localhost:8080/",
          "height": 35
        }
      },
      "outputs": [
        {
          "output_type": "execute_result",
          "data": {
            "text/plain": [
              "'Tom'"
            ],
            "application/vnd.google.colaboratory.intrinsic+json": {
              "type": "string"
            }
          },
          "metadata": {},
          "execution_count": 48
        }
      ],
      "source": [
        "name=\"tom\"\n",
        "str.capitalize(name)"
      ]
    },
    {
      "cell_type": "code",
      "execution_count": 23,
      "id": "434abd95",
      "metadata": {
        "id": "434abd95",
        "outputId": "f0be947a-cc68-4721-ca8a-44b7e63cf761",
        "colab": {
          "base_uri": "https://localhost:8080/",
          "height": 35
        }
      },
      "outputs": [
        {
          "output_type": "execute_result",
          "data": {
            "text/plain": [
              "'TOM'"
            ],
            "application/vnd.google.colaboratory.intrinsic+json": {
              "type": "string"
            }
          },
          "metadata": {},
          "execution_count": 23
        }
      ],
      "source": [
        "str.upper(name)"
      ]
    },
    {
      "cell_type": "markdown",
      "id": "4246aa03",
      "metadata": {
        "id": "4246aa03"
      },
      "source": [
        "Exercise: Use a function to turn the name tom into the name tommy"
      ]
    },
    {
      "cell_type": "code",
      "execution_count": 57,
      "id": "c842ff53-f052-4e8c-94d3-8be4fbcf65c3",
      "metadata": {
        "id": "c842ff53-f052-4e8c-94d3-8be4fbcf65c3",
        "outputId": "4a51cf4e-5958-467a-a1ac-68c187512a4c",
        "colab": {
          "base_uri": "https://localhost:8080/",
          "height": 35
        }
      },
      "outputs": [
        {
          "output_type": "execute_result",
          "data": {
            "text/plain": [
              "'tommy'"
            ],
            "application/vnd.google.colaboratory.intrinsic+json": {
              "type": "string"
            }
          },
          "metadata": {},
          "execution_count": 57
        }
      ],
      "source": [
        "name.replace(name,name+\"my\")"
      ]
    },
    {
      "cell_type": "code",
      "source": [
        "str.replace(name,name,name+\"my\")"
      ],
      "metadata": {
        "id": "Z1d1jBTpzDna",
        "outputId": "b72bf830-50b2-4176-8ab8-fe91c663d202",
        "colab": {
          "base_uri": "https://localhost:8080/",
          "height": 35
        }
      },
      "id": "Z1d1jBTpzDna",
      "execution_count": 59,
      "outputs": [
        {
          "output_type": "execute_result",
          "data": {
            "text/plain": [
              "'tommy'"
            ],
            "application/vnd.google.colaboratory.intrinsic+json": {
              "type": "string"
            }
          },
          "metadata": {},
          "execution_count": 59
        }
      ]
    },
    {
      "cell_type": "markdown",
      "id": "929b3bab",
      "metadata": {
        "id": "929b3bab"
      },
      "source": [
        "# Lists\n",
        "\n",
        "So far I have represented sentences as single strings. For most purposes in computational linguistics we don't want to do this - we want instead to represent them in ways that recognizes the word boundaries. In order to do this we often represent sentences as lists of words, each of which is represented as a string. A list of strings can be created by putting words (as strings in quotes) inside square brackets as in the following example:"
      ]
    },
    {
      "cell_type": "code",
      "execution_count": 60,
      "id": "3a5be46f",
      "metadata": {
        "id": "3a5be46f"
      },
      "outputs": [],
      "source": [
        "sentence = [\"this\", \"is\", \"a\", \"sentence\"]"
      ]
    },
    {
      "cell_type": "markdown",
      "id": "e10e5a31",
      "metadata": {
        "id": "e10e5a31"
      },
      "source": [
        "We can print lists of words as a single string when needed as follows. The character in the quotes before \".join\" sets the character to be printed between the elements of the list. Here we use a space."
      ]
    },
    {
      "cell_type": "code",
      "execution_count": 61,
      "id": "39ec0d58",
      "metadata": {
        "id": "39ec0d58",
        "outputId": "4853885f-8c1d-4941-ebae-8addeef6af90",
        "colab": {
          "base_uri": "https://localhost:8080/"
        }
      },
      "outputs": [
        {
          "output_type": "stream",
          "name": "stdout",
          "text": [
            "this is a sentence\n"
          ]
        }
      ],
      "source": [
        "print(str.join(\" \", sentence))"
      ]
    },
    {
      "cell_type": "markdown",
      "id": "526765e3",
      "metadata": {
        "id": "526765e3"
      },
      "source": [
        "However we can also select elements from within the list. The entries in a list are indexed numberically starting with zero. So the first element is sentence[0] and the last element of this four element list is sentence[3]. These can then be select for printing as follows:"
      ]
    },
    {
      "cell_type": "code",
      "execution_count": 62,
      "id": "b7519cd5",
      "metadata": {
        "id": "b7519cd5",
        "outputId": "d4a157d3-9cb6-4de7-e567-b82e39b0c309",
        "colab": {
          "base_uri": "https://localhost:8080/"
        }
      },
      "outputs": [
        {
          "output_type": "stream",
          "name": "stdout",
          "text": [
            "a\n"
          ]
        }
      ],
      "source": [
        "print(sentence[2])"
      ]
    },
    {
      "cell_type": "markdown",
      "id": "568a3748",
      "metadata": {
        "id": "568a3748"
      },
      "source": [
        "We can also select subsequences of entries, by specifying a range as follows. Notice that the second character in the range isn't included - so 0:2 means from 0 up to the number before 2."
      ]
    },
    {
      "cell_type": "code",
      "execution_count": 63,
      "id": "2f15bd8c",
      "metadata": {
        "id": "2f15bd8c",
        "outputId": "cafa7f60-e9f9-4477-d9c0-0dbd2284e9e6",
        "colab": {
          "base_uri": "https://localhost:8080/"
        }
      },
      "outputs": [
        {
          "output_type": "stream",
          "name": "stdout",
          "text": [
            "this is\n"
          ]
        }
      ],
      "source": [
        "print(str.join(\" \", sentence[0:2]))"
      ]
    },
    {
      "cell_type": "markdown",
      "id": "fae74c0f",
      "metadata": {
        "id": "fae74c0f"
      },
      "source": [
        "This allows us to, for example, insert elements in the middle of sentences as follows:"
      ]
    },
    {
      "cell_type": "code",
      "execution_count": 64,
      "id": "82e133f3",
      "metadata": {
        "id": "82e133f3",
        "outputId": "a89621a7-a2db-428c-a9fb-1f657b0e23b0",
        "colab": {
          "base_uri": "https://localhost:8080/"
        }
      },
      "outputs": [
        {
          "output_type": "stream",
          "name": "stdout",
          "text": [
            "this is a short sentence\n"
          ]
        }
      ],
      "source": [
        "print(str.join(\" \", sentence[0:3]) + \" short \" + sentence[3])"
      ]
    },
    {
      "cell_type": "markdown",
      "id": "a78de597",
      "metadata": {
        "id": "a78de597"
      },
      "source": [
        "Exercise: create a sentence in list form for the sequence \"George is a cat\". Then use substring selection to produce the sentence \"George is a big cat\"."
      ]
    },
    {
      "cell_type": "code",
      "execution_count": 69,
      "id": "fd68d4c6",
      "metadata": {
        "id": "fd68d4c6",
        "outputId": "6bb161f1-58b3-4288-d6fd-25efa53dafb1",
        "colab": {
          "base_uri": "https://localhost:8080/"
        }
      },
      "outputs": [
        {
          "output_type": "stream",
          "name": "stdout",
          "text": [
            "George is a cat.\n",
            "George is a big cat.\n"
          ]
        }
      ],
      "source": [
        "sentence = [\"George\",\"is\",\"a\",\"cat.\"]\n",
        "print(str.join(\" \", sentence))\n",
        "print(str.join(\" \",sentence[0:3])+\" big \"+sentence[3])"
      ]
    },
    {
      "cell_type": "markdown",
      "id": "3f601ea5",
      "metadata": {
        "tags": [],
        "id": "3f601ea5"
      },
      "source": [
        "Like strings, lists have their own built in functions that you can make use of:\n",
        "https://www.w3schools.com/python/python_ref_list.asp"
      ]
    },
    {
      "cell_type": "markdown",
      "id": "b3a95a86",
      "metadata": {
        "tags": [],
        "id": "b3a95a86"
      },
      "source": [
        "# Loading data\n",
        "\n",
        "Computational linguistics involves handling text data. We saw that we can type in a string of characters, or indeed lists of words, above. However instead of typing in data, we often want to load it from files. We are going to use this file: https://www.gutenberg.org/files/2554/2554-0.txt\n",
        "\n",
        "First we can download it to our workspace:"
      ]
    },
    {
      "cell_type": "code",
      "execution_count": 70,
      "id": "0103c9d9-b02f-4c18-bf2a-f9d08ddf56fe",
      "metadata": {
        "id": "0103c9d9-b02f-4c18-bf2a-f9d08ddf56fe",
        "outputId": "f8b1e622-3002-49a6-ef20-54509ae804f9",
        "colab": {
          "base_uri": "https://localhost:8080/"
        }
      },
      "outputs": [
        {
          "output_type": "stream",
          "name": "stdout",
          "text": [
            "--2025-01-27 17:35:33--  https://www.gutenberg.org/files/2554/2554-0.txt\n",
            "Resolving www.gutenberg.org (www.gutenberg.org)... 152.19.134.47, 2610:28:3090:3000:0:bad:cafe:47\n",
            "Connecting to www.gutenberg.org (www.gutenberg.org)|152.19.134.47|:443... connected.\n",
            "HTTP request sent, awaiting response... 200 OK\n",
            "Length: 1159924 (1.1M) [text/plain]\n",
            "Saving to: ‘2554-0.txt’\n",
            "\n",
            "2554-0.txt          100%[===================>]   1.11M  --.-KB/s    in 0.09s   \n",
            "\n",
            "2025-01-27 17:35:33 (11.9 MB/s) - ‘2554-0.txt’ saved [1159924/1159924]\n",
            "\n"
          ]
        }
      ],
      "source": [
        "!wget https://www.gutenberg.org/files/2554/2554-0.txt"
      ]
    },
    {
      "cell_type": "markdown",
      "id": "66f1eeec-3cba-4653-af02-19cc0721a570",
      "metadata": {
        "id": "66f1eeec-3cba-4653-af02-19cc0721a570"
      },
      "source": [
        "Then we read it in to Python."
      ]
    },
    {
      "cell_type": "code",
      "execution_count": 71,
      "id": "521bd781-b1f9-4128-8a5b-66e6fb9b9df1",
      "metadata": {
        "id": "521bd781-b1f9-4128-8a5b-66e6fb9b9df1"
      },
      "outputs": [],
      "source": [
        "f = open('2554-0.txt')\n",
        "raw = f.read()"
      ]
    },
    {
      "cell_type": "markdown",
      "id": "0a1b435d-62da-403d-b62b-0255bb2b17c5",
      "metadata": {
        "id": "0a1b435d-62da-403d-b62b-0255bb2b17c5"
      },
      "source": [
        "We will then extract a single chapter of the novel to work with:"
      ]
    },
    {
      "cell_type": "code",
      "execution_count": 73,
      "id": "90044a37",
      "metadata": {
        "id": "90044a37",
        "collapsed": true,
        "outputId": "a41af8bb-c7dd-42c7-b0e3-4c6bb96b84c6",
        "colab": {
          "base_uri": "https://localhost:8080/"
        }
      },
      "outputs": [
        {
          "output_type": "stream",
          "name": "stdout",
          "text": [
            "some time past he had been in an overstrained irritable condition,\n",
            "verging on hypochondria. He had become so completely absorbed in\n",
            "himself, and isolated from his fellows that he dreaded meeting, not\n",
            "only his landlady, but anyone at all. He was crushed by poverty, but the\n",
            "anxieties of his position had of late ceased to weigh upon him. He had\n",
            "given up attending to matters of practical importance; he had lost all\n",
            "desire to do so. Nothing that any landlady could do had a real terror\n",
            "for him. But to be stopped on the stairs, to be forced to listen to her\n",
            "trivial, irrelevant gossip, to pestering demands for payment, threats\n",
            "and complaints, and to rack his brains for excuses, to prevaricate, to\n",
            "lie--no, rather than that, he would creep down the stairs like a cat and\n",
            "slip out unseen.\n",
            "\n",
            "This evening, however, on coming out into the street, he became acutely\n",
            "aware of his fears.\n",
            "\n",
            "“I want to attempt a thing _like that_ and am frightened by these\n",
            "trifles,” he thought, with an odd smile. “Hm... yes, all is in a man’s\n",
            "hands and he lets it all slip from cowardice, that’s an axiom. It would\n",
            "be interesting to know what it is men are most afraid of. Taking a new\n",
            "step, uttering a new word is what they fear most.... But I am talking\n",
            "too much. It’s because I chatter that I do nothing. Or perhaps it is\n",
            "that I chatter because I do nothing. I’ve learned to chatter this\n",
            "last month, lying for days together in my den thinking... of Jack the\n",
            "Giant-killer. Why am I going there now? Am I capable of _that_? Is\n",
            "_that_ serious? It is not serious at all. It’s simply a fantasy to amuse\n",
            "myself; a plaything! Yes, maybe it is a plaything.”\n",
            "\n",
            "The heat in the street was terrible: and the airlessness, the bustle\n",
            "and the plaster, scaffolding, bricks, and dust all about him, and that\n",
            "special Petersburg stench, so familiar to all who are unable to get out\n",
            "of town in summer--all worked painfully upon the young man’s already\n",
            "overwrought nerves. The insufferable stench from the pot-houses, which\n",
            "are particularly numerous in that part of the town, and the drunken men\n",
            "whom he met continually, although it was a working day, completed\n",
            "the revolting misery of the picture. An expression of the profoundest\n",
            "disgust gleamed for a moment in the young man’s refined face. He was,\n",
            "by the way, exceptionally handsome, above the average in height, slim,\n",
            "well-built, with beautiful dark eyes and dark brown hair. Soon he sank\n",
            "into deep thought, or more accurately speaking into a complete blankness\n",
            "of mind; he walked along not observing what was about him and not caring\n",
            "to observe it. From time to time, he would mutter something, from the\n",
            "habit of talking to himself, to which he had just confessed. At these\n",
            "moments he would become conscious that his ideas were sometimes in a\n",
            "tangle and that he was very weak; for two days he had scarcely tasted\n",
            "food.\n",
            "\n",
            "He was so badly dressed that even a man accustomed to shabbiness would\n",
            "have been ashamed to be seen in the street in such rags. In that quarter\n",
            "of the town, however, scarcely any shortcoming in dress would have\n",
            "created surprise. Owing to the proximity of the Hay Market, the number\n",
            "of establishments of bad character, the preponderance of the trading\n",
            "and working class population crowded in these streets and alleys in the\n",
            "heart of Petersburg, types so various were to be seen in the streets\n",
            "that no figure, however queer, would have caused surprise. But there was\n",
            "such accumulated bitterness and contempt in the young man’s heart, that,\n",
            "in spite of all the fastidiousness of youth, he minded his rags least\n",
            "of all in the street. It was a different matter when he met with\n",
            "acquaintances or with former fellow students, whom, indeed, he disliked\n",
            "meeting at any time. And yet when a drunken man who, for some unknown\n",
            "reason, was being taken somewhere in a huge waggon dragged by a heavy\n",
            "dray horse, suddenly shouted at him as he drove past: “Hey there, German\n",
            "hatter” bawling at the top of his voice and pointing at him--the young\n",
            "man stopped suddenly and clutched tremulously at his hat. It was a tall\n",
            "round hat from Zimmerman’s, but completely worn out, rusty with age, all\n",
            "torn and bespattered, brimless and bent on one side in a most unseemly\n",
            "fashion. Not shame, however, but quite another feeling akin to terror\n",
            "had overtaken him.\n",
            "\n",
            "“I knew it,” he muttered in confusion, “I thought so! That’s the worst\n",
            "of all! Why, a stupid thing like this, the most trivial detail might\n",
            "spoil the whole plan. Yes, my hat is too noticeable.... It looks absurd\n",
            "and that makes it noticeable.... With my rags I ought to wear a cap, any\n",
            "sort of old pancake, but not this grotesque thing. Nobody wears such\n",
            "a hat, it would be noticed a mile off, it would be remembered.... What\n",
            "matters is that people would remember it, and that would give them\n",
            "a clue. For this business one should be as little conspicuous as\n",
            "possible.... Trifles, trifles are what matter! Why, it’s just such\n",
            "trifles that always ruin everything....”\n",
            "\n",
            "He had not far to go; he knew indeed how many steps it was from the gate\n",
            "of his lodging house: exactly seven hundred and thirty. He had counted\n",
            "them once when he had been lost in dreams. At the time he had put no\n",
            "faith in those dreams and was only tantalising himself by their hideous\n",
            "but daring recklessness. Now, a month later, he had begun to look upon\n",
            "them differently, and, in spite of the monologues in which he jeered at\n",
            "his own impotence and indecision, he had involuntarily come to regard\n",
            "this “hideous” dream as an exploit to be attempted, although he\n",
            "still did not realise this himself. He was positively going now for a\n",
            "“rehearsal” of his project, and at every step his excitement grew more\n",
            "and more violent.\n",
            "\n",
            "With a sinking heart and a nervous tremor, he went up to a huge house\n",
            "which on one side looked on to the canal, and on the other into the\n",
            "street. This house was let out in tiny tenements and was inhabited by\n",
            "working people of all kinds--tailors, locksmiths, cooks, Germans of\n",
            "sorts, girls picking up a living as best they could, petty clerks, etc.\n",
            "There was a continual coming and going through the two gates and in the\n",
            "two courtyards of the house. Three or four door-keepers were employed on\n",
            "the building. The young man was very glad to meet none of them, and\n",
            "at once slipped unnoticed through the door on the right, and up the\n",
            "staircase. It was a back staircase, dark and narrow, but he was familiar\n",
            "with it already, and knew his way, and he liked all these surroundings:\n",
            "in such darkness even the most inquisitive eyes were not to be dreaded.\n",
            "\n",
            "“If I am so scared now, what would it be if it somehow came to pass that\n",
            "I were really going to do it?” he could not help asking himself as he\n",
            "reached the fourth storey. There his progress was barred by some porters\n",
            "who were engaged in moving furniture out of a flat. He knew that the\n",
            "flat had been occupied by a German clerk in the civil service, and his\n",
            "family. This German was moving out then, and so the fourth floor on this\n",
            "staircase would be untenanted except by the old woman. “That’s a good\n",
            "thing anyway,” he thought to himself, as he rang the bell of the old\n",
            "woman’s flat. The bell gave a faint tinkle as though it were made of\n",
            "tin and not of copper. The little flats in such houses always have bells\n",
            "that ring like that. He had forgotten the note of that bell, and now\n",
            "its peculiar tinkle seemed to remind him of something and to bring it\n",
            "clearly before him.... He started, his nerves were terribly overstrained\n",
            "by now. In a little while, the door was opened a tiny crack: the old\n",
            "woman eyed her visitor with evident distrust through the crack, and\n",
            "nothing could be seen but her little eyes, glittering in the darkness.\n",
            "But, seeing a number of people on the landing, she grew bolder, and\n",
            "opened the door wide. The young man stepped into the dark entry, which\n",
            "was partitioned off from the tiny kitchen. The old woman stood facing\n",
            "him in silence and looking inquiringly at him. She was a diminutive,\n",
            "withered up old woman of sixty, with sharp malignant eyes and a sharp\n",
            "little nose. Her colourless, somewhat grizzled hair was thickly smeared\n",
            "with oil, and she wore no kerchief over it. Round her thin long neck,\n",
            "which looked like a hen’s leg, was knotted some sort of flannel rag,\n",
            "and, in spite of the heat, there hung flapping on her shoulders, a mangy\n",
            "fur cape, yellow with age. The old woman coughed and groaned at every\n",
            "instant. The young man must have looked at her with a rather peculiar\n",
            "expression, for a gleam of mistrust came into her eyes again.\n",
            "\n",
            "“Raskolnikov, a student, I came here a month ago,” the young man made\n",
            "haste to mutter, with a half bow, remembering that he ought to be more\n",
            "polite.\n",
            "\n",
            "“I remember, my good sir, I remember quite well your coming here,” the\n",
            "old woman said distinctly, still keeping her inquiring eyes on his face.\n",
            "\n",
            "“And here... I am again on the same errand,” Raskolnikov continued, a\n",
            "little disconcerted and surprised at the old woman’s mistrust. “Perhaps\n",
            "she is always like that though, only I did not notice it the other\n",
            "time,” he thought with an uneasy feeling.\n",
            "\n",
            "The old woman paused, as though hesitating; then stepped on one side,\n",
            "and pointing to the door of the room, she said, letting her visitor pass\n",
            "in front of her:\n",
            "\n",
            "“Step in, my good sir.”\n",
            "\n",
            "The little room into which the young man walked, with yellow paper on\n",
            "the walls, geraniums and muslin curtains in the windows, was brightly\n",
            "lighted up at that moment by the setting sun.\n",
            "\n",
            "“So the sun will shine like this _then_ too!” flashed as it were by\n",
            "chance through Raskolnikov’s mind, and with a rapid glance he scanned\n",
            "everything in the room, trying as far as possible to notice and\n",
            "remember its arrangement. But there was nothing special in the room. The\n",
            "furniture, all very old and of yellow wood, consisted of a sofa with\n",
            "a huge bent wooden back, an oval table in front of the sofa, a\n",
            "dressing-table with a looking-glass fixed on it between the windows,\n",
            "chairs along the walls and two or three half-penny prints in yellow\n",
            "frames, representing German damsels with birds in their hands--that was\n",
            "all. In the corner a light was burning before a small ikon. Everything\n",
            "was very clean; the floor and the furniture were brightly polished;\n",
            "everything shone.\n",
            "\n",
            "“Lizaveta’s work,” thought the young man. There was not a speck of dust\n",
            "to be seen in the whole flat.\n",
            "\n",
            "“It’s in the houses of spiteful old widows that one finds such\n",
            "cleanliness,” Raskolnikov thought again, and he stole a curious glance\n",
            "at the cotton curtain over the door leading into another tiny room, in\n",
            "which stood the old woman’s bed and chest of drawers and into which he\n",
            "had never looked before. These two rooms made up the whole flat.\n",
            "\n",
            "“What do you want?” the old woman said severely, coming into the room\n",
            "and, as before, standing in front of him so as to look him straight in\n",
            "the face.\n",
            "\n",
            "“I’ve brought something to pawn here,” and he drew out of his pocket\n",
            "an old-fashioned flat silver watch, on the back of which was engraved a\n",
            "globe; the chain was of steel.\n",
            "\n",
            "“But the time is up for your last pledge. The month was up the day\n",
            "before yesterday.”\n",
            "\n",
            "“I will bring you the interest for another month; wait a little.”\n",
            "\n",
            "“But that’s for me to do as I please, my good sir, to wait or to sell\n",
            "your pledge at once.”\n",
            "\n",
            "“How much will you give me for the watch, Alyona Ivanovna?”\n",
            "\n",
            "“You come with such trifles, my good sir, it’s scarcely worth anything.\n",
            "I gave you two roubles last time for your ring and one could buy it\n",
            "quite new at a jeweler’s for a rouble and a half.”\n",
            "\n",
            "“Give me four roubles for it, I shall redeem it, it was my father’s. I\n",
            "shall be getting some money soon.”\n",
            "\n",
            "“A rouble and a half, and interest in advance, if you like!”\n",
            "\n",
            "“A rouble and a half!” cried the young man.\n",
            "\n",
            "“Please yourself”--and the old woman handed him back the watch. The\n",
            "young man took it, and was so angry that he was on the point of going\n",
            "away; but checked himself at once, remembering that there was nowhere\n",
            "else he could go, and that he had had another object also in coming.\n",
            "\n",
            "“Hand it over,” he said roughly.\n",
            "\n",
            "The old woman fumbled in her pocket for her keys, and disappeared behind\n",
            "the curtain into the other room. The young man, left standing alone in\n",
            "the middle of the room, listened inquisitively, thinking. He could hear\n",
            "her unlocking the chest of drawers.\n",
            "\n",
            "“It must be the top drawer,” he reflected. “So she carries the keys in\n",
            "a pocket on the right. All in one bunch on a steel ring.... And there’s\n",
            "one key there, three times as big as all the others, with deep notches;\n",
            "that can’t be the key of the chest of drawers... then there must be some\n",
            "other chest or strong-box... that’s worth knowing. Strong-boxes always\n",
            "have keys like that... but how degrading it all is.”\n",
            "\n",
            "The old woman came back.\n",
            "\n",
            "“Here, sir: as we say ten copecks the rouble a month, so I must take\n",
            "fifteen copecks from a rouble and a half for the month in advance. But\n",
            "for the two roubles I lent you before, you owe me now twenty copecks\n",
            "on the same reckoning in advance. That makes thirty-five copecks\n",
            "altogether. So I must give you a rouble and fifteen copecks for the\n",
            "watch. Here it is.”\n",
            "\n",
            "“What! only a rouble and fifteen copecks now!”\n",
            "\n",
            "“Just so.”\n",
            "\n",
            "The young man did not dispute it and took the money. He looked at the\n",
            "old woman, and was in no hurry to get away, as though there was still\n",
            "something he wanted to say or to do, but he did not himself quite know\n",
            "what.\n",
            "\n",
            "“I may be bringing you something else in a day or two, Alyona\n",
            "Ivanovna--a valuable thing--silver--a cigarette-box, as soon as I get it\n",
            "back from a friend...” he broke off in confusion.\n",
            "\n",
            "“Well, we will talk about it then, sir.”\n",
            "\n",
            "“Good-bye--are you always at home alone, your sister is not here with\n",
            "you?” He asked her as casually as possible as he went out into the\n",
            "passage.\n",
            "\n",
            "“What business is she of yours, my good sir?”\n",
            "\n",
            "“Oh, nothing particular, I simply asked. You are too quick.... Good-day,\n",
            "Alyona Ivanovna.”\n",
            "\n",
            "Raskolnikov went out in complete confusion. This confusion became more\n",
            "and more intense. As he went down the stairs, he even stopped short, two\n",
            "or three times, as though suddenly struck by some thought. When he was\n",
            "in the street he cried out, “Oh, God, how loathsome it all is! and\n",
            "can I, can I possibly.... No, it’s nonsense, it’s rubbish!” he added\n",
            "resolutely. “And how could such an atrocious thing come into my head?\n",
            "What filthy things my heart is capable of. Yes, filthy above all,\n",
            "disgusting, loathsome, loathsome!--and for a whole month I’ve been....”\n",
            " But no words, no exclamations, could express his agitation. The feeling\n",
            "of intense repulsion, which had begun to oppress and torture his heart\n",
            "while he was on his way to the old woman, had by now reached such a\n",
            "pitch and had taken such a definite form that he did not know what to\n",
            "do with himself to escape from his wretchedness. He walked along the\n",
            "pavement like a drunken man, regardless of the passers-by, and jostling\n",
            "against them, and only came to his senses when he was in the next\n",
            "street. Looking round, he noticed that he was standing close to a tavern\n",
            "which was entered by steps leading from the pavement to the basement.\n",
            "At that instant two drunken men came out at the door, and abusing and\n",
            "supporting one another, they mounted the steps. Without stopping to\n",
            "think, Raskolnikov went down the steps at once. Till that moment he had\n",
            "never been into a tavern, but now he felt giddy and was tormented by a\n",
            "burning thirst. He longed for a drink of cold beer, and attributed his\n",
            "sudden weakness to the want of food. He sat down at a sticky little\n",
            "table in a dark and dirty corner; ordered some beer, and eagerly drank\n",
            "off the first glassful. At once he felt easier; and his thoughts became\n",
            "clear.\n",
            "\n",
            "“All that’s nonsense,” he said hopefully, “and there is nothing in it\n",
            "all to worry about! It’s simply physical derangement. Just a glass of\n",
            "beer, a piece of dry bread--and in one moment the brain is stronger,\n",
            "the mind is clearer and the will is firm! Phew, how utterly petty it all\n",
            "is!”\n",
            "\n",
            "But in spite of this scornful reflection, he was by now looking cheerful\n",
            "as though he were suddenly set free from a terrible burden: and he gazed\n",
            "round in a friendly way at the people in the room. But even at that\n",
            "moment he had a dim foreboding that this happier frame of mind was also\n",
            "not normal.\n",
            "\n",
            "There were few people at the time in the tavern. Besides the two drunken\n",
            "men he had met on the steps, a group consisting of about five men and\n",
            "a girl with a concertina had gone out at the same time. Their departure\n",
            "left the room quiet and rather empty. The persons still in the tavern\n",
            "were a man who appeared to be an artisan, drunk, but not extremely so,\n",
            "sitting before a pot of beer, and his companion, a huge, stout man with\n",
            "a grey beard, in a short full-skirted coat. He was very drunk: and had\n",
            "dropped asleep on the bench; every now and then, he began as though in\n",
            "his sleep, cracking his fingers, with his arms wide apart and the upper\n",
            "part of his body bounding about on the bench, while he hummed some\n",
            "meaningless refrain, trying to recall some such lines as these:\n",
            "\n",
            "   “His wife a year he fondly loved\n",
            "    His wife a--a year he--fondly loved.”\n",
            "\n",
            "Or suddenly waking up again:\n",
            "\n",
            "   “Walking along the crowded row\n",
            "    He met the one he used to know.”\n",
            "\n",
            "But no one shared his enjoyment: his silent companion looked with\n",
            "positive hostility and mistrust at all these manifestations. There was\n",
            "another man in the room who looked somewhat like a retired government\n",
            "clerk. He was sitting apart, now and then sipping from his pot and\n",
            "looking round at the company. He, too, appeared to be in some agitation.\n",
            "\n",
            "\n",
            "\n",
            "CHAPTER II\n",
            "\n",
            "Raskolnikov was not used to crowds, and, as we said before, he avoided\n",
            "society of every sort, more especially of late. But now all at once he\n",
            "felt a desire to be with other people. Something new seemed to be taking\n",
            "place within him, and with it he felt a sort of thirst for company. He\n",
            "was so weary after a whole month of concentrated wretchedness and gloomy\n",
            "excitement that he longed to rest, if only for a moment, in some other\n",
            "world, whatever it might be; and, in spite of the filthiness of the\n",
            "surroundings, he was glad now to stay in the tavern.\n",
            "\n",
            "The master of the establishment was in another room, but he frequently\n",
            "came down some steps into the main room, his jaunty, tarred boots with\n",
            "red turn-over tops coming into view each time before the rest of his\n",
            "person. He wore a full coa\n"
          ]
        }
      ],
      "source": [
        "chapter_one = raw[5464:23725]\n",
        "print(chapter_one)"
      ]
    },
    {
      "cell_type": "markdown",
      "id": "aba8b86e",
      "metadata": {
        "id": "aba8b86e"
      },
      "source": [
        "As you will notice this reads texts in as single strings. As discussed before we usually want to represent sentences in a way that reflects word boundaries. The simplest way to do it is to split on spaces. As we will see there are all sorts of problems with doing this, but for now we'll ignore that and use a built in string function split(). In order to make sure it deals with full stops as we would like we will also use the replace function to separate them from the ends of words."
      ]
    },
    {
      "cell_type": "code",
      "execution_count": 74,
      "id": "6a290b73",
      "metadata": {
        "id": "6a290b73",
        "outputId": "4653f4cf-3e18-41ba-dcc0-b8b10bcd308e",
        "colab": {
          "base_uri": "https://localhost:8080/"
        }
      },
      "outputs": [
        {
          "output_type": "stream",
          "name": "stdout",
          "text": [
            "['some', 'time', 'past', 'he', 'had', 'been', 'in', 'an', 'overstrained', 'irritable', 'condition,', 'verging', 'on', 'hypochondria', '.', 'He', 'had', 'become', 'so', 'completely', 'absorbed', 'in', 'himself,', 'and', 'isolated', 'from', 'his', 'fellows', 'that', 'he', 'dreaded', 'meeting,', 'not', 'only', 'his', 'landlady,', 'but', 'anyone', 'at', 'all', '.', 'He', 'was', 'crushed', 'by', 'poverty,', 'but', 'the', 'anxieties', 'of', 'his', 'position', 'had', 'of', 'late', 'ceased', 'to', 'weigh', 'upon', 'him', '.', 'He', 'had', 'given', 'up', 'attending', 'to', 'matters', 'of', 'practical', 'importance;', 'he', 'had', 'lost', 'all', 'desire', 'to', 'do', 'so', '.', 'Nothing', 'that', 'any', 'landlady', 'could', 'do', 'had', 'a', 'real', 'terror', 'for', 'him', '.', 'But', 'to', 'be', 'stopped', 'on', 'the', 'stairs,', 'to', 'be', 'forced', 'to', 'listen', 'to', 'her', 'trivial,', 'irrelevant', 'gossip,', 'to', 'pestering', 'demands', 'for', 'payment,', 'threats', 'and', 'complaints,', 'and', 'to', 'rack', 'his', 'brains', 'for', 'excuses,', 'to', 'prevaricate,', 'to', 'lie--no,', 'rather', 'than', 'that,', 'he', 'would', 'creep', 'down', 'the', 'stairs', 'like', 'a', 'cat', 'and', 'slip', 'out', 'unseen', '.', 'This', 'evening,', 'however,', 'on', 'coming', 'out', 'into', 'the', 'street,', 'he', 'became', 'acutely', 'aware', 'of', 'his', 'fears', '.', '“I', 'want', 'to', 'attempt', 'a', 'thing', '_like', 'that_', 'and', 'am', 'frightened', 'by', 'these', 'trifles,”', 'he', 'thought,', 'with', 'an', 'odd', 'smile', '.', '“Hm', '.', '.', '.', 'yes,', 'all', 'is', 'in', 'a', 'man’s', 'hands', 'and', 'he', 'lets', 'it', 'all', 'slip', 'from', 'cowardice,', 'that’s', 'an', 'axiom', '.', 'It', 'would', 'be', 'interesting', 'to', 'know', 'what', 'it', 'is', 'men', 'are', 'most', 'afraid', 'of', '.', 'Taking', 'a', 'new', 'step,', 'uttering', 'a', 'new', 'word', 'is', 'what', 'they', 'fear', 'most', '.', '.', '.', '.', 'But', 'I', 'am', 'talking', 'too', 'much', '.', 'It’s', 'because', 'I', 'chatter', 'that', 'I', 'do', 'nothing', '.', 'Or', 'perhaps', 'it', 'is', 'that', 'I', 'chatter', 'because', 'I', 'do', 'nothing', '.', 'I’ve', 'learned', 'to', 'chatter', 'this', 'last', 'month,', 'lying', 'for', 'days', 'together', 'in', 'my', 'den', 'thinking', '.', '.', '.', 'of', 'Jack', 'the', 'Giant-killer', '.', 'Why', 'am', 'I', 'going', 'there', 'now?', 'Am', 'I', 'capable', 'of', '_that_?', 'Is', '_that_', 'serious?', 'It', 'is', 'not', 'serious', 'at', 'all', '.', 'It’s', 'simply', 'a', 'fantasy', 'to', 'amuse', 'myself;', 'a', 'plaything!', 'Yes,', 'maybe', 'it', 'is', 'a', 'plaything', '.”', 'The', 'heat', 'in', 'the', 'street', 'was', 'terrible:', 'and', 'the', 'airlessness,', 'the', 'bustle', 'and', 'the', 'plaster,', 'scaffolding,', 'bricks,', 'and', 'dust', 'all', 'about', 'him,', 'and', 'that', 'special', 'Petersburg', 'stench,', 'so', 'familiar', 'to', 'all', 'who', 'are', 'unable', 'to', 'get', 'out', 'of', 'town', 'in', 'summer--all', 'worked', 'painfully', 'upon', 'the', 'young', 'man’s', 'already', 'overwrought', 'nerves', '.', 'The', 'insufferable', 'stench', 'from', 'the', 'pot-houses,', 'which', 'are', 'particularly', 'numerous', 'in', 'that', 'part', 'of', 'the', 'town,', 'and', 'the', 'drunken', 'men', 'whom', 'he', 'met', 'continually,', 'although', 'it', 'was', 'a', 'working', 'day,', 'completed', 'the', 'revolting', 'misery', 'of', 'the', 'picture', '.', 'An', 'expression', 'of', 'the', 'profoundest', 'disgust', 'gleamed', 'for', 'a', 'moment', 'in', 'the', 'young', 'man’s', 'refined', 'face', '.', 'He', 'was,', 'by', 'the', 'way,', 'exceptionally', 'handsome,', 'above', 'the', 'average', 'in', 'height,', 'slim,', 'well-built,', 'with', 'beautiful', 'dark', 'eyes', 'and', 'dark', 'brown', 'hair', '.', 'Soon', 'he', 'sank', 'into', 'deep', 'thought,', 'or', 'more', 'accurately', 'speaking', 'into', 'a', 'complete', 'blankness', 'of', 'mind;', 'he', 'walked', 'along', 'not', 'observing', 'what', 'was', 'about', 'him', 'and', 'not', 'caring', 'to', 'observe', 'it', '.', 'From', 'time', 'to', 'time,', 'he', 'would', 'mutter', 'something,', 'from', 'the', 'habit', 'of', 'talking', 'to', 'himself,', 'to', 'which', 'he', 'had', 'just', 'confessed', '.', 'At', 'these', 'moments', 'he', 'would', 'become', 'conscious', 'that', 'his', 'ideas', 'were', 'sometimes', 'in', 'a', 'tangle', 'and', 'that', 'he', 'was', 'very', 'weak;', 'for', 'two', 'days', 'he', 'had', 'scarcely', 'tasted', 'food', '.', 'He', 'was', 'so', 'badly', 'dressed', 'that', 'even', 'a', 'man', 'accustomed', 'to', 'shabbiness', 'would', 'have', 'been', 'ashamed', 'to', 'be', 'seen', 'in', 'the', 'street', 'in', 'such', 'rags', '.', 'In', 'that', 'quarter', 'of', 'the', 'town,', 'however,', 'scarcely', 'any', 'shortcoming', 'in', 'dress', 'would', 'have', 'created', 'surprise', '.', 'Owing', 'to', 'the', 'proximity', 'of', 'the', 'Hay', 'Market,', 'the', 'number', 'of', 'establishments', 'of', 'bad', 'character,', 'the', 'preponderance', 'of', 'the', 'trading', 'and', 'working', 'class', 'population', 'crowded', 'in', 'these', 'streets', 'and', 'alleys', 'in', 'the', 'heart', 'of', 'Petersburg,', 'types', 'so', 'various', 'were', 'to', 'be', 'seen', 'in', 'the', 'streets', 'that', 'no', 'figure,', 'however', 'queer,', 'would', 'have', 'caused', 'surprise', '.', 'But', 'there', 'was', 'such', 'accumulated', 'bitterness', 'and', 'contempt', 'in', 'the', 'young', 'man’s', 'heart,', 'that,', 'in', 'spite', 'of', 'all', 'the', 'fastidiousness', 'of', 'youth,', 'he', 'minded', 'his', 'rags', 'least', 'of', 'all', 'in', 'the', 'street', '.', 'It', 'was', 'a', 'different', 'matter', 'when', 'he', 'met', 'with', 'acquaintances', 'or', 'with', 'former', 'fellow', 'students,', 'whom,', 'indeed,', 'he', 'disliked', 'meeting', 'at', 'any', 'time', '.', 'And', 'yet', 'when', 'a', 'drunken', 'man', 'who,', 'for', 'some', 'unknown', 'reason,', 'was', 'being', 'taken', 'somewhere', 'in', 'a', 'huge', 'waggon', 'dragged', 'by', 'a', 'heavy', 'dray', 'horse,', 'suddenly', 'shouted', 'at', 'him', 'as', 'he', 'drove', 'past:', '“Hey', 'there,', 'German', 'hatter”', 'bawling', 'at', 'the', 'top', 'of', 'his', 'voice', 'and', 'pointing', 'at', 'him--the', 'young', 'man', 'stopped', 'suddenly', 'and', 'clutched', 'tremulously', 'at', 'his', 'hat', '.', 'It', 'was', 'a', 'tall', 'round', 'hat', 'from', 'Zimmerman’s,', 'but', 'completely', 'worn', 'out,', 'rusty', 'with', 'age,', 'all', 'torn', 'and', 'bespattered,', 'brimless', 'and', 'bent', 'on', 'one', 'side', 'in', 'a', 'most', 'unseemly', 'fashion', '.', 'Not', 'shame,', 'however,', 'but', 'quite', 'another', 'feeling', 'akin', 'to', 'terror', 'had', 'overtaken', 'him', '.', '“I', 'knew', 'it,”', 'he', 'muttered', 'in', 'confusion,', '“I', 'thought', 'so!', 'That’s', 'the', 'worst', 'of', 'all!', 'Why,', 'a', 'stupid', 'thing', 'like', 'this,', 'the', 'most', 'trivial', 'detail', 'might', 'spoil', 'the', 'whole', 'plan', '.', 'Yes,', 'my', 'hat', 'is', 'too', 'noticeable', '.', '.', '.', '.', 'It', 'looks', 'absurd', 'and', 'that', 'makes', 'it', 'noticeable', '.', '.', '.', '.', 'With', 'my', 'rags', 'I', 'ought', 'to', 'wear', 'a', 'cap,', 'any', 'sort', 'of', 'old', 'pancake,', 'but', 'not', 'this', 'grotesque', 'thing', '.', 'Nobody', 'wears', 'such', 'a', 'hat,', 'it', 'would', 'be', 'noticed', 'a', 'mile', 'off,', 'it', 'would', 'be', 'remembered', '.', '.', '.', '.', 'What', 'matters', 'is', 'that', 'people', 'would', 'remember', 'it,', 'and', 'that', 'would', 'give', 'them', 'a', 'clue', '.', 'For', 'this', 'business', 'one', 'should', 'be', 'as', 'little', 'conspicuous', 'as', 'possible', '.', '.', '.', '.', 'Trifles,', 'trifles', 'are', 'what', 'matter!', 'Why,', 'it’s', 'just', 'such', 'trifles', 'that', 'always', 'ruin', 'everything', '.', '.', '.', '.”', 'He', 'had', 'not', 'far', 'to', 'go;', 'he', 'knew', 'indeed', 'how', 'many', 'steps', 'it', 'was', 'from', 'the', 'gate', 'of', 'his', 'lodging', 'house:', 'exactly', 'seven', 'hundred', 'and', 'thirty', '.', 'He', 'had', 'counted', 'them', 'once', 'when', 'he', 'had', 'been', 'lost', 'in', 'dreams', '.', 'At', 'the', 'time', 'he', 'had', 'put', 'no', 'faith', 'in', 'those', 'dreams', 'and', 'was', 'only', 'tantalising', 'himself', 'by', 'their', 'hideous', 'but', 'daring', 'recklessness', '.', 'Now,', 'a', 'month', 'later,', 'he', 'had', 'begun', 'to', 'look', 'upon', 'them', 'differently,', 'and,', 'in', 'spite', 'of', 'the', 'monologues', 'in', 'which', 'he', 'jeered', 'at', 'his', 'own', 'impotence', 'and', 'indecision,', 'he', 'had', 'involuntarily', 'come', 'to', 'regard', 'this', '“hideous”', 'dream', 'as', 'an', 'exploit', 'to', 'be', 'attempted,', 'although', 'he', 'still', 'did', 'not', 'realise', 'this', 'himself', '.', 'He', 'was', 'positively', 'going', 'now', 'for', 'a', '“rehearsal”', 'of', 'his', 'project,', 'and', 'at', 'every', 'step', 'his', 'excitement', 'grew', 'more', 'and', 'more', 'violent', '.', 'With', 'a', 'sinking', 'heart', 'and', 'a', 'nervous', 'tremor,', 'he', 'went', 'up', 'to', 'a', 'huge', 'house', 'which', 'on', 'one', 'side', 'looked', 'on', 'to', 'the', 'canal,', 'and', 'on', 'the', 'other', 'into', 'the', 'street', '.', 'This', 'house', 'was', 'let', 'out', 'in', 'tiny', 'tenements', 'and', 'was', 'inhabited', 'by', 'working', 'people', 'of', 'all', 'kinds--tailors,', 'locksmiths,', 'cooks,', 'Germans', 'of', 'sorts,', 'girls', 'picking', 'up', 'a', 'living', 'as', 'best', 'they', 'could,', 'petty', 'clerks,', 'etc', '.', 'There', 'was', 'a', 'continual', 'coming', 'and', 'going', 'through', 'the', 'two', 'gates', 'and', 'in', 'the', 'two', 'courtyards', 'of', 'the', 'house', '.', 'Three', 'or', 'four', 'door-keepers', 'were', 'employed', 'on', 'the', 'building', '.', 'The', 'young', 'man', 'was', 'very', 'glad', 'to', 'meet', 'none', 'of', 'them,', 'and', 'at', 'once', 'slipped', 'unnoticed', 'through', 'the', 'door', 'on', 'the', 'right,', 'and', 'up', 'the', 'staircase', '.', 'It', 'was', 'a', 'back', 'staircase,', 'dark', 'and', 'narrow,', 'but', 'he', 'was', 'familiar', 'with', 'it', 'already,', 'and', 'knew', 'his', 'way,', 'and', 'he', 'liked', 'all', 'these', 'surroundings:', 'in', 'such', 'darkness', 'even', 'the', 'most', 'inquisitive', 'eyes', 'were', 'not', 'to', 'be', 'dreaded', '.', '“If', 'I', 'am', 'so', 'scared', 'now,', 'what', 'would', 'it', 'be', 'if', 'it', 'somehow', 'came', 'to', 'pass', 'that', 'I', 'were', 'really', 'going', 'to', 'do', 'it?”', 'he', 'could', 'not', 'help', 'asking', 'himself', 'as', 'he', 'reached', 'the', 'fourth', 'storey', '.', 'There', 'his', 'progress', 'was', 'barred', 'by', 'some', 'porters', 'who', 'were', 'engaged', 'in', 'moving', 'furniture', 'out', 'of', 'a', 'flat', '.', 'He', 'knew', 'that', 'the', 'flat', 'had', 'been', 'occupied', 'by', 'a', 'German', 'clerk', 'in', 'the', 'civil', 'service,', 'and', 'his', 'family', '.', 'This', 'German', 'was', 'moving', 'out', 'then,', 'and', 'so', 'the', 'fourth', 'floor', 'on', 'this', 'staircase', 'would', 'be', 'untenanted', 'except', 'by', 'the', 'old', 'woman', '.', '“That’s', 'a', 'good', 'thing', 'anyway,”', 'he', 'thought', 'to', 'himself,', 'as', 'he', 'rang', 'the', 'bell', 'of', 'the', 'old', 'woman’s', 'flat', '.', 'The', 'bell', 'gave', 'a', 'faint', 'tinkle', 'as', 'though', 'it', 'were', 'made', 'of', 'tin', 'and', 'not', 'of', 'copper', '.', 'The', 'little', 'flats', 'in', 'such', 'houses', 'always', 'have', 'bells', 'that', 'ring', 'like', 'that', '.', 'He', 'had', 'forgotten', 'the', 'note', 'of', 'that', 'bell,', 'and', 'now', 'its', 'peculiar', 'tinkle', 'seemed', 'to', 'remind', 'him', 'of', 'something', 'and', 'to', 'bring', 'it', 'clearly', 'before', 'him', '.', '.', '.', '.', 'He', 'started,', 'his', 'nerves', 'were', 'terribly', 'overstrained', 'by', 'now', '.', 'In', 'a', 'little', 'while,', 'the', 'door', 'was', 'opened', 'a', 'tiny', 'crack:', 'the', 'old', 'woman', 'eyed', 'her', 'visitor', 'with', 'evident', 'distrust', 'through', 'the', 'crack,', 'and', 'nothing', 'could', 'be', 'seen', 'but', 'her', 'little', 'eyes,', 'glittering', 'in', 'the', 'darkness', '.', 'But,', 'seeing', 'a', 'number', 'of', 'people', 'on', 'the', 'landing,', 'she', 'grew', 'bolder,', 'and', 'opened', 'the', 'door', 'wide', '.', 'The', 'young', 'man', 'stepped', 'into', 'the', 'dark', 'entry,', 'which', 'was', 'partitioned', 'off', 'from', 'the', 'tiny', 'kitchen', '.', 'The', 'old', 'woman', 'stood', 'facing', 'him', 'in', 'silence', 'and', 'looking', 'inquiringly', 'at', 'him', '.', 'She', 'was', 'a', 'diminutive,', 'withered', 'up', 'old', 'woman', 'of', 'sixty,', 'with', 'sharp', 'malignant', 'eyes', 'and', 'a', 'sharp', 'little', 'nose', '.', 'Her', 'colourless,', 'somewhat', 'grizzled', 'hair', 'was', 'thickly', 'smeared', 'with', 'oil,', 'and', 'she', 'wore', 'no', 'kerchief', 'over', 'it', '.', 'Round', 'her', 'thin', 'long', 'neck,', 'which', 'looked', 'like', 'a', 'hen’s', 'leg,', 'was', 'knotted', 'some', 'sort', 'of', 'flannel', 'rag,', 'and,', 'in', 'spite', 'of', 'the', 'heat,', 'there', 'hung', 'flapping', 'on', 'her', 'shoulders,', 'a', 'mangy', 'fur', 'cape,', 'yellow', 'with', 'age', '.', 'The', 'old', 'woman', 'coughed', 'and', 'groaned', 'at', 'every', 'instant', '.', 'The', 'young', 'man', 'must', 'have', 'looked', 'at', 'her', 'with', 'a', 'rather', 'peculiar', 'expression,', 'for', 'a', 'gleam', 'of', 'mistrust', 'came', 'into', 'her', 'eyes', 'again', '.', '“Raskolnikov,', 'a', 'student,', 'I', 'came', 'here', 'a', 'month', 'ago,”', 'the', 'young', 'man', 'made', 'haste', 'to', 'mutter,', 'with', 'a', 'half', 'bow,', 'remembering', 'that', 'he', 'ought', 'to', 'be', 'more', 'polite', '.', '“I', 'remember,', 'my', 'good', 'sir,', 'I', 'remember', 'quite', 'well', 'your', 'coming', 'here,”', 'the', 'old', 'woman', 'said', 'distinctly,', 'still', 'keeping', 'her', 'inquiring', 'eyes', 'on', 'his', 'face', '.', '“And', 'here', '.', '.', '.', 'I', 'am', 'again', 'on', 'the', 'same', 'errand,”', 'Raskolnikov', 'continued,', 'a', 'little', 'disconcerted', 'and', 'surprised', 'at', 'the', 'old', 'woman’s', 'mistrust', '.', '“Perhaps', 'she', 'is', 'always', 'like', 'that', 'though,', 'only', 'I', 'did', 'not', 'notice', 'it', 'the', 'other', 'time,”', 'he', 'thought', 'with', 'an', 'uneasy', 'feeling', '.', 'The', 'old', 'woman', 'paused,', 'as', 'though', 'hesitating;', 'then', 'stepped', 'on', 'one', 'side,', 'and', 'pointing', 'to', 'the', 'door', 'of', 'the', 'room,', 'she', 'said,', 'letting', 'her', 'visitor', 'pass', 'in', 'front', 'of', 'her:', '“Step', 'in,', 'my', 'good', 'sir', '.”', 'The', 'little', 'room', 'into', 'which', 'the', 'young', 'man', 'walked,', 'with', 'yellow', 'paper', 'on', 'the', 'walls,', 'geraniums', 'and', 'muslin', 'curtains', 'in', 'the', 'windows,', 'was', 'brightly', 'lighted', 'up', 'at', 'that', 'moment', 'by', 'the', 'setting', 'sun', '.', '“So', 'the', 'sun', 'will', 'shine', 'like', 'this', '_then_', 'too!”', 'flashed', 'as', 'it', 'were', 'by', 'chance', 'through', 'Raskolnikov’s', 'mind,', 'and', 'with', 'a', 'rapid', 'glance', 'he', 'scanned', 'everything', 'in', 'the', 'room,', 'trying', 'as', 'far', 'as', 'possible', 'to', 'notice', 'and', 'remember', 'its', 'arrangement', '.', 'But', 'there', 'was', 'nothing', 'special', 'in', 'the', 'room', '.', 'The', 'furniture,', 'all', 'very', 'old', 'and', 'of', 'yellow', 'wood,', 'consisted', 'of', 'a', 'sofa', 'with', 'a', 'huge', 'bent', 'wooden', 'back,', 'an', 'oval', 'table', 'in', 'front', 'of', 'the', 'sofa,', 'a', 'dressing-table', 'with', 'a', 'looking-glass', 'fixed', 'on', 'it', 'between', 'the', 'windows,', 'chairs', 'along', 'the', 'walls', 'and', 'two', 'or', 'three', 'half-penny', 'prints', 'in', 'yellow', 'frames,', 'representing', 'German', 'damsels', 'with', 'birds', 'in', 'their', 'hands--that', 'was', 'all', '.', 'In', 'the', 'corner', 'a', 'light', 'was', 'burning', 'before', 'a', 'small', 'ikon', '.', 'Everything', 'was', 'very', 'clean;', 'the', 'floor', 'and', 'the', 'furniture', 'were', 'brightly', 'polished;', 'everything', 'shone', '.', '“Lizaveta’s', 'work,”', 'thought', 'the', 'young', 'man', '.', 'There', 'was', 'not', 'a', 'speck', 'of', 'dust', 'to', 'be', 'seen', 'in', 'the', 'whole', 'flat', '.', '“It’s', 'in', 'the', 'houses', 'of', 'spiteful', 'old', 'widows', 'that', 'one', 'finds', 'such', 'cleanliness,”', 'Raskolnikov', 'thought', 'again,', 'and', 'he', 'stole', 'a', 'curious', 'glance', 'at', 'the', 'cotton', 'curtain', 'over', 'the', 'door', 'leading', 'into', 'another', 'tiny', 'room,', 'in', 'which', 'stood', 'the', 'old', 'woman’s', 'bed', 'and', 'chest', 'of', 'drawers', 'and', 'into', 'which', 'he', 'had', 'never', 'looked', 'before', '.', 'These', 'two', 'rooms', 'made', 'up', 'the', 'whole', 'flat', '.', '“What', 'do', 'you', 'want?”', 'the', 'old', 'woman', 'said', 'severely,', 'coming', 'into', 'the', 'room', 'and,', 'as', 'before,', 'standing', 'in', 'front', 'of', 'him', 'so', 'as', 'to', 'look', 'him', 'straight', 'in', 'the', 'face', '.', '“I’ve', 'brought', 'something', 'to', 'pawn', 'here,”', 'and', 'he', 'drew', 'out', 'of', 'his', 'pocket', 'an', 'old-fashioned', 'flat', 'silver', 'watch,', 'on', 'the', 'back', 'of', 'which', 'was', 'engraved', 'a', 'globe;', 'the', 'chain', 'was', 'of', 'steel', '.', '“But', 'the', 'time', 'is', 'up', 'for', 'your', 'last', 'pledge', '.', 'The', 'month', 'was', 'up', 'the', 'day', 'before', 'yesterday', '.”', '“I', 'will', 'bring', 'you', 'the', 'interest', 'for', 'another', 'month;', 'wait', 'a', 'little', '.”', '“But', 'that’s', 'for', 'me', 'to', 'do', 'as', 'I', 'please,', 'my', 'good', 'sir,', 'to', 'wait', 'or', 'to', 'sell', 'your', 'pledge', 'at', 'once', '.”', '“How', 'much', 'will', 'you', 'give', 'me', 'for', 'the', 'watch,', 'Alyona', 'Ivanovna?”', '“You', 'come', 'with', 'such', 'trifles,', 'my', 'good', 'sir,', 'it’s', 'scarcely', 'worth', 'anything', '.', 'I', 'gave', 'you', 'two', 'roubles', 'last', 'time', 'for', 'your', 'ring', 'and', 'one', 'could', 'buy', 'it', 'quite', 'new', 'at', 'a', 'jeweler’s', 'for', 'a', 'rouble', 'and', 'a', 'half', '.”', '“Give', 'me', 'four', 'roubles', 'for', 'it,', 'I', 'shall', 'redeem', 'it,', 'it', 'was', 'my', 'father’s', '.', 'I', 'shall', 'be', 'getting', 'some', 'money', 'soon', '.”', '“A', 'rouble', 'and', 'a', 'half,', 'and', 'interest', 'in', 'advance,', 'if', 'you', 'like!”', '“A', 'rouble', 'and', 'a', 'half!”', 'cried', 'the', 'young', 'man', '.', '“Please', 'yourself”--and', 'the', 'old', 'woman', 'handed', 'him', 'back', 'the', 'watch', '.', 'The', 'young', 'man', 'took', 'it,', 'and', 'was', 'so', 'angry', 'that', 'he', 'was', 'on', 'the', 'point', 'of', 'going', 'away;', 'but', 'checked', 'himself', 'at', 'once,', 'remembering', 'that', 'there', 'was', 'nowhere', 'else', 'he', 'could', 'go,', 'and', 'that', 'he', 'had', 'had', 'another', 'object', 'also', 'in', 'coming', '.', '“Hand', 'it', 'over,”', 'he', 'said', 'roughly', '.', 'The', 'old', 'woman', 'fumbled', 'in', 'her', 'pocket', 'for', 'her', 'keys,', 'and', 'disappeared', 'behind', 'the', 'curtain', 'into', 'the', 'other', 'room', '.', 'The', 'young', 'man,', 'left', 'standing', 'alone', 'in', 'the', 'middle', 'of', 'the', 'room,', 'listened', 'inquisitively,', 'thinking', '.', 'He', 'could', 'hear', 'her', 'unlocking', 'the', 'chest', 'of', 'drawers', '.', '“It', 'must', 'be', 'the', 'top', 'drawer,”', 'he', 'reflected', '.', '“So', 'she', 'carries', 'the', 'keys', 'in', 'a', 'pocket', 'on', 'the', 'right', '.', 'All', 'in', 'one', 'bunch', 'on', 'a', 'steel', 'ring', '.', '.', '.', '.', 'And', 'there’s', 'one', 'key', 'there,', 'three', 'times', 'as', 'big', 'as', 'all', 'the', 'others,', 'with', 'deep', 'notches;', 'that', 'can’t', 'be', 'the', 'key', 'of', 'the', 'chest', 'of', 'drawers', '.', '.', '.', 'then', 'there', 'must', 'be', 'some', 'other', 'chest', 'or', 'strong-box', '.', '.', '.', 'that’s', 'worth', 'knowing', '.', 'Strong-boxes', 'always', 'have', 'keys', 'like', 'that', '.', '.', '.', 'but', 'how', 'degrading', 'it', 'all', 'is', '.”', 'The', 'old', 'woman', 'came', 'back', '.', '“Here,', 'sir:', 'as', 'we', 'say', 'ten', 'copecks', 'the', 'rouble', 'a', 'month,', 'so', 'I', 'must', 'take', 'fifteen', 'copecks', 'from', 'a', 'rouble', 'and', 'a', 'half', 'for', 'the', 'month', 'in', 'advance', '.', 'But', 'for', 'the', 'two', 'roubles', 'I', 'lent', 'you', 'before,', 'you', 'owe', 'me', 'now', 'twenty', 'copecks', 'on', 'the', 'same', 'reckoning', 'in', 'advance', '.', 'That', 'makes', 'thirty-five', 'copecks', 'altogether', '.', 'So', 'I', 'must', 'give', 'you', 'a', 'rouble', 'and', 'fifteen', 'copecks', 'for', 'the', 'watch', '.', 'Here', 'it', 'is', '.”', '“What!', 'only', 'a', 'rouble', 'and', 'fifteen', 'copecks', 'now!”', '“Just', 'so', '.”', 'The', 'young', 'man', 'did', 'not', 'dispute', 'it', 'and', 'took', 'the', 'money', '.', 'He', 'looked', 'at', 'the', 'old', 'woman,', 'and', 'was', 'in', 'no', 'hurry', 'to', 'get', 'away,', 'as', 'though', 'there', 'was', 'still', 'something', 'he', 'wanted', 'to', 'say', 'or', 'to', 'do,', 'but', 'he', 'did', 'not', 'himself', 'quite', 'know', 'what', '.', '“I', 'may', 'be', 'bringing', 'you', 'something', 'else', 'in', 'a', 'day', 'or', 'two,', 'Alyona', 'Ivanovna--a', 'valuable', 'thing--silver--a', 'cigarette-box,', 'as', 'soon', 'as', 'I', 'get', 'it', 'back', 'from', 'a', 'friend', '.', '.', '.”', 'he', 'broke', 'off', 'in', 'confusion', '.', '“Well,', 'we', 'will', 'talk', 'about', 'it', 'then,', 'sir', '.”', '“Good-bye--are', 'you', 'always', 'at', 'home', 'alone,', 'your', 'sister', 'is', 'not', 'here', 'with', 'you?”', 'He', 'asked', 'her', 'as', 'casually', 'as', 'possible', 'as', 'he', 'went', 'out', 'into', 'the', 'passage', '.', '“What', 'business', 'is', 'she', 'of', 'yours,', 'my', 'good', 'sir?”', '“Oh,', 'nothing', 'particular,', 'I', 'simply', 'asked', '.', 'You', 'are', 'too', 'quick', '.', '.', '.', '.', 'Good-day,', 'Alyona', 'Ivanovna', '.”', 'Raskolnikov', 'went', 'out', 'in', 'complete', 'confusion', '.', 'This', 'confusion', 'became', 'more', 'and', 'more', 'intense', '.', 'As', 'he', 'went', 'down', 'the', 'stairs,', 'he', 'even', 'stopped', 'short,', 'two', 'or', 'three', 'times,', 'as', 'though', 'suddenly', 'struck', 'by', 'some', 'thought', '.', 'When', 'he', 'was', 'in', 'the', 'street', 'he', 'cried', 'out,', '“Oh,', 'God,', 'how', 'loathsome', 'it', 'all', 'is!', 'and', 'can', 'I,', 'can', 'I', 'possibly', '.', '.', '.', '.', 'No,', 'it’s', 'nonsense,', 'it’s', 'rubbish!”', 'he', 'added', 'resolutely', '.', '“And', 'how', 'could', 'such', 'an', 'atrocious', 'thing', 'come', 'into', 'my', 'head?', 'What', 'filthy', 'things', 'my', 'heart', 'is', 'capable', 'of', '.', 'Yes,', 'filthy', 'above', 'all,', 'disgusting,', 'loathsome,', 'loathsome!--and', 'for', 'a', 'whole', 'month', 'I’ve', 'been', '.', '.', '.', '.”', 'But', 'no', 'words,', 'no', 'exclamations,', 'could', 'express', 'his', 'agitation', '.', 'The', 'feeling', 'of', 'intense', 'repulsion,', 'which', 'had', 'begun', 'to', 'oppress', 'and', 'torture', 'his', 'heart', 'while', 'he', 'was', 'on', 'his', 'way', 'to', 'the', 'old', 'woman,', 'had', 'by', 'now', 'reached', 'such', 'a', 'pitch', 'and', 'had', 'taken', 'such', 'a', 'definite', 'form', 'that', 'he', 'did', 'not', 'know', 'what', 'to', 'do', 'with', 'himself', 'to', 'escape', 'from', 'his', 'wretchedness', '.', 'He', 'walked', 'along', 'the', 'pavement', 'like', 'a', 'drunken', 'man,', 'regardless', 'of', 'the', 'passers-by,', 'and', 'jostling', 'against', 'them,', 'and', 'only', 'came', 'to', 'his', 'senses', 'when', 'he', 'was', 'in', 'the', 'next', 'street', '.', 'Looking', 'round,', 'he', 'noticed', 'that', 'he', 'was', 'standing', 'close', 'to', 'a', 'tavern', 'which', 'was', 'entered', 'by', 'steps', 'leading', 'from', 'the', 'pavement', 'to', 'the', 'basement', '.', 'At', 'that', 'instant', 'two', 'drunken', 'men', 'came', 'out', 'at', 'the', 'door,', 'and', 'abusing', 'and', 'supporting', 'one', 'another,', 'they', 'mounted', 'the', 'steps', '.', 'Without', 'stopping', 'to', 'think,', 'Raskolnikov', 'went', 'down', 'the', 'steps', 'at', 'once', '.', 'Till', 'that', 'moment', 'he', 'had', 'never', 'been', 'into', 'a', 'tavern,', 'but', 'now', 'he', 'felt', 'giddy', 'and', 'was', 'tormented', 'by', 'a', 'burning', 'thirst', '.', 'He', 'longed', 'for', 'a', 'drink', 'of', 'cold', 'beer,', 'and', 'attributed', 'his', 'sudden', 'weakness', 'to', 'the', 'want', 'of', 'food', '.', 'He', 'sat', 'down', 'at', 'a', 'sticky', 'little', 'table', 'in', 'a', 'dark', 'and', 'dirty', 'corner;', 'ordered', 'some', 'beer,', 'and', 'eagerly', 'drank', 'off', 'the', 'first', 'glassful', '.', 'At', 'once', 'he', 'felt', 'easier;', 'and', 'his', 'thoughts', 'became', 'clear', '.', '“All', 'that’s', 'nonsense,”', 'he', 'said', 'hopefully,', '“and', 'there', 'is', 'nothing', 'in', 'it', 'all', 'to', 'worry', 'about!', 'It’s', 'simply', 'physical', 'derangement', '.', 'Just', 'a', 'glass', 'of', 'beer,', 'a', 'piece', 'of', 'dry', 'bread--and', 'in', 'one', 'moment', 'the', 'brain', 'is', 'stronger,', 'the', 'mind', 'is', 'clearer', 'and', 'the', 'will', 'is', 'firm!', 'Phew,', 'how', 'utterly', 'petty', 'it', 'all', 'is!”', 'But', 'in', 'spite', 'of', 'this', 'scornful', 'reflection,', 'he', 'was', 'by', 'now', 'looking', 'cheerful', 'as', 'though', 'he', 'were', 'suddenly', 'set', 'free', 'from', 'a', 'terrible', 'burden:', 'and', 'he', 'gazed', 'round', 'in', 'a', 'friendly', 'way', 'at', 'the', 'people', 'in', 'the', 'room', '.', 'But', 'even', 'at', 'that', 'moment', 'he', 'had', 'a', 'dim', 'foreboding', 'that', 'this', 'happier', 'frame', 'of', 'mind', 'was', 'also', 'not', 'normal', '.', 'There', 'were', 'few', 'people', 'at', 'the', 'time', 'in', 'the', 'tavern', '.', 'Besides', 'the', 'two', 'drunken', 'men', 'he', 'had', 'met', 'on', 'the', 'steps,', 'a', 'group', 'consisting', 'of', 'about', 'five', 'men', 'and', 'a', 'girl', 'with', 'a', 'concertina', 'had', 'gone', 'out', 'at', 'the', 'same', 'time', '.', 'Their', 'departure', 'left', 'the', 'room', 'quiet', 'and', 'rather', 'empty', '.', 'The', 'persons', 'still', 'in', 'the', 'tavern', 'were', 'a', 'man', 'who', 'appeared', 'to', 'be', 'an', 'artisan,', 'drunk,', 'but', 'not', 'extremely', 'so,', 'sitting', 'before', 'a', 'pot', 'of', 'beer,', 'and', 'his', 'companion,', 'a', 'huge,', 'stout', 'man', 'with', 'a', 'grey', 'beard,', 'in', 'a', 'short', 'full-skirted', 'coat', '.', 'He', 'was', 'very', 'drunk:', 'and', 'had', 'dropped', 'asleep', 'on', 'the', 'bench;', 'every', 'now', 'and', 'then,', 'he', 'began', 'as', 'though', 'in', 'his', 'sleep,', 'cracking', 'his', 'fingers,', 'with', 'his', 'arms', 'wide', 'apart', 'and', 'the', 'upper', 'part', 'of', 'his', 'body', 'bounding', 'about', 'on', 'the', 'bench,', 'while', 'he', 'hummed', 'some', 'meaningless', 'refrain,', 'trying', 'to', 'recall', 'some', 'such', 'lines', 'as', 'these:', '“His', 'wife', 'a', 'year', 'he', 'fondly', 'loved', 'His', 'wife', 'a--a', 'year', 'he--fondly', 'loved', '.”', 'Or', 'suddenly', 'waking', 'up', 'again:', '“Walking', 'along', 'the', 'crowded', 'row', 'He', 'met', 'the', 'one', 'he', 'used', 'to', 'know', '.”', 'But', 'no', 'one', 'shared', 'his', 'enjoyment:', 'his', 'silent', 'companion', 'looked', 'with', 'positive', 'hostility', 'and', 'mistrust', 'at', 'all', 'these', 'manifestations', '.', 'There', 'was', 'another', 'man', 'in', 'the', 'room', 'who', 'looked', 'somewhat', 'like', 'a', 'retired', 'government', 'clerk', '.', 'He', 'was', 'sitting', 'apart,', 'now', 'and', 'then', 'sipping', 'from', 'his', 'pot', 'and', 'looking', 'round', 'at', 'the', 'company', '.', 'He,', 'too,', 'appeared', 'to', 'be', 'in', 'some', 'agitation', '.', 'CHAPTER', 'II', 'Raskolnikov', 'was', 'not', 'used', 'to', 'crowds,', 'and,', 'as', 'we', 'said', 'before,', 'he', 'avoided', 'society', 'of', 'every', 'sort,', 'more', 'especially', 'of', 'late', '.', 'But', 'now', 'all', 'at', 'once', 'he', 'felt', 'a', 'desire', 'to', 'be', 'with', 'other', 'people', '.', 'Something', 'new', 'seemed', 'to', 'be', 'taking', 'place', 'within', 'him,', 'and', 'with', 'it', 'he', 'felt', 'a', 'sort', 'of', 'thirst', 'for', 'company', '.', 'He', 'was', 'so', 'weary', 'after', 'a', 'whole', 'month', 'of', 'concentrated', 'wretchedness', 'and', 'gloomy', 'excitement', 'that', 'he', 'longed', 'to', 'rest,', 'if', 'only', 'for', 'a', 'moment,', 'in', 'some', 'other', 'world,', 'whatever', 'it', 'might', 'be;', 'and,', 'in', 'spite', 'of', 'the', 'filthiness', 'of', 'the', 'surroundings,', 'he', 'was', 'glad', 'now', 'to', 'stay', 'in', 'the', 'tavern', '.', 'The', 'master', 'of', 'the', 'establishment', 'was', 'in', 'another', 'room,', 'but', 'he', 'frequently', 'came', 'down', 'some', 'steps', 'into', 'the', 'main', 'room,', 'his', 'jaunty,', 'tarred', 'boots', 'with', 'red', 'turn-over', 'tops', 'coming', 'into', 'view', 'each', 'time', 'before', 'the', 'rest', 'of', 'his', 'person', '.', 'He', 'wore', 'a', 'full', 'coa']\n"
          ]
        }
      ],
      "source": [
        "chapter_one = str.replace(chapter_one, \".\",\" .\")\n",
        "chapter_one_tokens = str.split(chapter_one)\n",
        "print(chapter_one_tokens)"
      ]
    }
  ],
  "metadata": {
    "kernelspec": {
      "display_name": "Python 3",
      "language": "python",
      "name": "python3"
    },
    "language_info": {
      "codemirror_mode": {
        "name": "ipython",
        "version": 3
      },
      "file_extension": ".py",
      "mimetype": "text/x-python",
      "name": "python",
      "nbconvert_exporter": "python",
      "pygments_lexer": "ipython3",
      "version": "3.8.8"
    },
    "colab": {
      "provenance": [],
      "include_colab_link": true
    }
  },
  "nbformat": 4,
  "nbformat_minor": 5
}